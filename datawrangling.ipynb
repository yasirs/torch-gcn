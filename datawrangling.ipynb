{
 "cells": [
  {
   "cell_type": "code",
   "execution_count": null,
   "metadata": {},
   "outputs": [],
   "source": [
    "import datatable as dt"
   ]
  },
  {
   "cell_type": "code",
   "execution_count": null,
   "metadata": {},
   "outputs": [],
   "source": [
    "biogrid_mv = dt.fread(\"data/BIOGRID-MV-Physical-3.5.187.tab3.txt\",  header=True,)"
   ]
  },
  {
   "cell_type": "code",
   "execution_count": null,
   "metadata": {},
   "outputs": [],
   "source": [
    "with open(file=\"data/BIOGRID-MV-Physical-3.5.187.tab3.txt\") as fi:\n",
    "  ww = fi.readline().rstrip().split(\"\\t\")\n",
    "biogrid_mv.names = ww\n",
    "\n"
   ]
  },
  {
   "cell_type": "code",
   "execution_count": null,
   "metadata": {
    "tags": []
   },
   "outputs": [],
   "source": [
    "biogrid_mv_human = biogrid_mv[ list(map(lambda x,y: (x==9606)&(y==9606), biogrid_mv[\"Organism Interactor A\"].to_list()[0], biogrid_mv[\"Organism Interactor B\"].to_list()[0])),:]"
   ]
  },
  {
   "cell_type": "code",
   "execution_count": null,
   "metadata": {},
   "outputs": [],
   "source": []
  },
  {
   "cell_type": "code",
   "execution_count": null,
   "metadata": {},
   "outputs": [],
   "source": [
    "edges = list(set(list(zip(biogrid_mv_human[\"Official Symbol Interactor A\"].to_list()[0], biogrid_mv_human[\"Official Symbol Interactor B\"].to_list()[0]))))"
   ]
  },
  {
   "cell_type": "code",
   "execution_count": null,
   "metadata": {},
   "outputs": [],
   "source": [
    "edges = list(set(list(map(lambda x: tuple(sorted(x)), edges))))"
   ]
  },
  {
   "cell_type": "code",
   "execution_count": null,
   "metadata": {},
   "outputs": [],
   "source": []
  },
  {
   "cell_type": "code",
   "execution_count": null,
   "metadata": {},
   "outputs": [],
   "source": [
    "edges_zipped = list(zip(*edges))"
   ]
  },
  {
   "cell_type": "code",
   "execution_count": null,
   "metadata": {},
   "outputs": [],
   "source": [
    "all_nodes = sorted(set.union(set(edges_zipped[0]), set(edges_zipped[1])))"
   ]
  },
  {
   "cell_type": "code",
   "execution_count": null,
   "metadata": {},
   "outputs": [],
   "source": [
    "import torch\n",
    "from torch_geometric.data import Data"
   ]
  },
  {
   "cell_type": "code",
   "execution_count": null,
   "metadata": {},
   "outputs": [],
   "source": [
    "node2ind = dict(zip(all_nodes, range(len(all_nodes))))"
   ]
  },
  {
   "cell_type": "code",
   "execution_count": null,
   "metadata": {},
   "outputs": [],
   "source": [
    "edges_zipped_indices = [list(map(lambda x: node2ind[x], edges_zipped[0])),\n",
    "                        list(map(lambda x: node2ind[x], edges_zipped[0]))]\n"
   ]
  },
  {
   "cell_type": "code",
   "execution_count": null,
   "metadata": {},
   "outputs": [],
   "source": [
    "edge_index = torch.tensor(edges_zipped_indices, dtype=torch.long)\n"
   ]
  },
  {
   "cell_type": "code",
   "execution_count": 1,
   "metadata": {
    "tags": []
   },
   "outputs": [
    {
     "output_type": "stream",
     "name": "stdout",
     "text": "requests.get(http://purl.obolibrary.org/obo/go/go-basic.obo, stream=True)\n  WROTE: go-basic.obo\n\nFTP RETR ftp.ncbi.nlm.nih.gov gene/DATA gene2go.gz -> gene2go.gz\n  gunzip gene2go.gz\ngo-basic.obo: fmt(1.2) rel(2020-07-16) 47,259 GO Terms\nDEPRECATED read_ncbi_gene2go: USE Gene2GoReader FROM goatools.anno.genetogo_reader\nDEPRECATED read_ncbi_gene2go CALLED FROM: <ipython-input-1-dd0eaccd4c15> BY <module>\nHMS:0:00:06.123295 333,299 annotations, 20,585 genes, 18,443 GOs, 1 taxids READ: gene2go \n18591 IDs in loaded association branch, BP\n"
    }
   ],
   "source": [
    "from goatools.base import download_go_basic_obo\n",
    "obo_fname = download_go_basic_obo()\n",
    "from goatools.base import download_ncbi_associations\n",
    "gene2go = download_ncbi_associations()\n",
    "from goatools.obo_parser import GODag\n",
    "\n",
    "obodag = GODag(\"go-basic.obo\")\n",
    "\n",
    "\n",
    "\n",
    "from __future__ import print_function\n",
    "from goatools.associations import read_ncbi_gene2go\n",
    "\n",
    "geneid2gos = read_ncbi_gene2go(\"gene2go\", taxids=[9606])"
   ]
  },
  {
   "cell_type": "code",
   "execution_count": null,
   "metadata": {},
   "outputs": [],
   "source": [
    "from numpy import random\n",
    "x = torch.tensor([random.randint(-1,2,size=len(all_nodes)),\n",
    "     random.randint(-1,2,size=len(all_nodes)),\n",
    "     random.randint(-1,2,size=len(all_nodes)),\n",
    "     random.randint(-1,2,size=len(all_nodes))], dtype=torch.float).t()\n",
    "y = torch.tensor(random.randint(0,4,len(all_nodes)), dtype=torch.long)\n",
    "train_mask = torch.tensor(random.random_sample(size=len(all_nodes)) > .8, dtype=torch.bool)\n"
   ]
  },
  {
   "cell_type": "code",
   "execution_count": 2,
   "metadata": {},
   "outputs": [
    {
     "output_type": "execute_result",
     "data": {
      "text/plain": "\n  'GO:0050776',\n  'GO:0050900',\n  'GO:0070208',\n  'GO:0071230',\n  'GO:0085029'},\n 1280: {'GO:0001501',\n  'GO:0001502',\n  'GO:0001894',\n  'GO:0001958',\n  'GO:0002062',\n  'GO:0003007',\n  'GO:0006029',\n  'GO:0007417',\n  'GO:0007601',\n  'GO:0007605',\n  'GO:0010468',\n  'GO:0030198',\n  'GO:0030199',\n  'GO:0030903',\n  'GO:0042472',\n  'GO:0050776',\n  'GO:0051216',\n  'GO:0060021',\n  'GO:0060174',\n  'GO:0060272',\n  'GO:0060351',\n  'GO:0071599',\n  'GO:0071773',\n  'GO:0097065',\n  'GO:2001240'},\n 1281: {'GO:0001501',\n  'GO:0007160',\n  'GO:0007179',\n  'GO:0007229',\n  'GO:0007507',\n  'GO:0009314',\n  'GO:0009612',\n  'GO:0018149',\n  'GO:0021987',\n  'GO:0030168',\n  'GO:0030198',\n  'GO:0030199',\n  'GO:0034097',\n  'GO:0035025',\n  'GO:0042060',\n  'GO:0043588',\n  'GO:0048565',\n  'GO:0050776',\n  'GO:0050777',\n  'GO:0060414',\n  'GO:0071230',\n  'GO:0097435',\n  'GO:2001223'},\n 1282: {'GO:0001569',\n  'GO:0007420',\n  'GO:0007528',\n  'GO:0030198',\n  'GO:0030855',\n  'GO:0038063',\n  'GO:0048514',\n  'GO:0061304',\n  'GO:0061333',\n  'GO:0071230',\n  'GO:0071711'},\n 1284: {'GO:0001525',\n  'GO:0006351',\n  'GO:0007568',\n  'GO:0014823',\n  'GO:0016525',\n  'GO:0030198',\n  'GO:0035987',\n  'GO:0038063',\n  'GO:0071560'},\n 1285: {'GO:0006919',\n  'GO:0007155',\n  'GO:0007166',\n  'GO:0007605',\n  'GO:0008015',\n  'GO:0008285',\n  'GO:0009749',\n  'GO:0010951',\n  'GO:0016525',\n  'GO:0030198',\n  'GO:0032836',\n  'GO:0038063',\n  'GO:0072577',\n  'GO:1905563'},\n 1286: {'GO:0030198', 'GO:0032836'},\n 1287: {'GO:0007528', 'GO:0030198', 'GO:0038063'},\n 1288: {'GO:0007155', 'GO:0030198', 'GO:0038063'},\n 1289: {'GO:0001568',\n  'GO:0003007',\n  'GO:0007155',\n  'GO:0016477',\n  'GO:0030198',\n  'GO:0030199',\n  'GO:0032964',\n  'GO:0035313',\n  'GO:0035989',\n  'GO:0043588',\n  'GO:0045112',\n  'GO:0048592',\n  'GO:0051128',\n  'GO:0097435',\n  'GO:1903225'},\n 1290: {'GO:0001501',\n  'GO:0001503',\n  'GO:0030198',\n  'GO:0030199',\n  'GO:0043588',\n  'GO:0048592',\n  'GO:0071230',\n  'GO:1903225'},\n 1291: {'GO:0001649', 'GO:0007155', 'GO:0030198', 'GO:0035987', 'GO:0071230'},\n 1292: {'GO:0007155', 'GO:0009749', 'GO:0030198'},\n 1293: {'GO:0007155', 'GO:0007517', 'GO:0010951', 'GO:0030198'},\n 1294: {'GO:0006888',\n  'GO:0007155',\n  'GO:0008544',\n  'GO:0010951',\n  'GO:0030198',\n  'GO:0035987',\n  'GO:0048208'},\n 1295: {'GO:0001525',\n  'GO:0007155',\n  'GO:0010811',\n  'GO:0030198',\n  'GO:0035987',\n  'GO:0048593',\n  'GO:0050673'},\n 1296: {'GO:0001525', 'GO:0030198', 'GO:0048593', 'GO:0050673', 'GO:0098609'},\n 1297: {'GO:0009887', 'GO:0030198'},\n 1298: {'GO:0001501', 'GO:0030198'},\n 1299: {'GO:0008584', 'GO:0008585', 'GO:0030198'},\n 1300: {'GO:0001501', 'GO:0030198'},\n 1301: {'GO:0001502',\n  'GO:0001503',\n  'GO:0002063',\n  'GO:0006029',\n  'GO:0007601',\n  'GO:0007605',\n  'GO:0030198',\n  'GO:0030199',\n  'GO:0035987',\n  'GO:0035989',\n  'GO:0042472',\n  'GO:0048704',\n  'GO:0050910',\n  'GO:0055010'},\n 1302: {'GO:0001501',\n  'GO:0007605',\n  'GO:0030198',\n  'GO:0030199',\n  'GO:0051216',\n  'GO:0060021',\n  'GO:0060023'},\n 1303: {'GO:0007155', 'GO:0030199', 'GO:0035987'},\n 1305: {'GO:0001501',\n  'GO:0001763',\n  'GO:0001958',\n  'GO:0007160',\n  'GO:0030154',\n  'GO:0030198',\n  'GO:0030199',\n  'GO:0030574',\n  'GO:0030903',\n  'GO:0098609'},\n 1306: {'GO:0001525',\n  'GO:0001886',\n  'GO:0007155',\n  'GO:0007165',\n  'GO:0030154',\n  'GO:0030198',\n  'GO:0030574'},\n 1307: {'GO:0007155',\n  'GO:0007229',\n  'GO:0007565',\n  'GO:0030198',\n  'GO:0033622',\n  'GO:0033627',\n  'GO:0051894',\n  'GO:0071230'},\n 1308: {'GO:0007160', 'GO:0008544', 'GO:0030198', 'GO:0031581', 'GO:0050776'},\n 1310: {'GO:0001501',\n  'GO:0007155',\n  'GO:0007519',\n  'GO:0030154',\n  'GO:0030198',\n  'GO:0030574',\n  'GO:0098609'},\n 1311: {'GO:0001501',\n  'GO:0002063',\n  'GO:0003417',\n  'GO:0006915',\n  'GO:0006986',\n  'GO:0009306',\n  'GO:0009887',\n  'GO:0010259',\n  'GO:0010260',\n  'GO:0014829',\n  'GO:0016485',\n  'GO:0030198',\n  'GO:0030199',\n  'GO:0030282',\n  'GO:0030500',\n  'GO:0030509',\n  'GO:0035264',\n  'GO:0035988',\n  'GO:0035989',\n  'GO:0043066',\n  'GO:0043588',\n  'GO:0048747',\n  'GO:0048844',\n  'GO:0050881',\n  'GO:0050905',\n  'GO:0060173',\n  'GO:0070527',\n  'GO:0097084',\n  'GO:1900047',\n  'GO:1902732'},\n 1312: {'GO:0007565',\n  'GO:0007612',\n  'GO:0007614',\n  'GO:0008210',\n  'GO:0014070',\n  'GO:0016036',\n  'GO:0032259',\n  'GO:0032496',\n  'GO:0032502',\n  'GO:0035814',\n  'GO:0042135',\n  'GO:0042417',\n  'GO:0042420',\n  'GO:0042424',\n  'GO:0042493',\n  'GO:0043627',\n  'GO:0045963',\n  'GO:0048265',\n  'GO:0048609',\n  'GO:0048662',\n  'GO:0050668',\n  'GO:0051930'},\n 1314: {'GO:0006886',\n  'GO:0006888',\n  'GO:0006890',\n  'GO:0006891',\n  'GO:0007165',\n  'GO:0030157',\n  'GO:0099612',\n  'GO:1902463'},\n 1315: {'GO:0006886',\n  'GO:0006888',\n  'GO:0006890',\n  'GO:0006891',\n  'GO:0016032',\n  'GO:0043312'},\n 1316: {'GO:0030183', 'GO:0045893', 'GO:0045944'},\n 1317: {'GO:0006825', 'GO:0006878', 'GO:0072719', 'GO:0098705'},\n 1318: {'GO:0006825', 'GO:0006878', 'GO:0035434', 'GO:1902311'},\n 1325: {'GO:0000712', 'GO:0007186', 'GO:0007193', 'GO:0007268', 'GO:0031297'},\n 1326: {'GO:0000186',\n  'GO:0006468',\n  'GO:0007049',\n  'GO:0031295',\n  'GO:0051403',\n  'GO:0070498'},\n 1327: {'GO:0006091', 'GO:0006123', 'GO:0007584', 'GO:1902600'},\n 1329: {'GO:0006123', 'GO:0007585', 'GO:0042776'},\n 1337: {'GO:0006091', 'GO:0006123', 'GO:0009060', 'GO:0050790', 'GO:1902600'},\n 1339: {'GO:0006091', 'GO:0006123', 'GO:0009060', 'GO:0050790', 'GO:1902600'},\n 1340: {'GO:0006123', 'GO:0021762', 'GO:1902600'},\n 1345: {'GO:0006091', 'GO:0006123', 'GO:1902600'},\n 1346: {'GO:0002082',\n  'GO:0006091',\n  'GO:0006119',\n  'GO:0022900',\n  'GO:0097250',\n  'GO:1902600'},\n 1347: {'GO:0002082', 'GO:0006119', 'GO:0022900', 'GO:0097250', 'GO:1902600'},\n 1348: {'GO:0002082', 'GO:0022900', 'GO:0097250', 'GO:1902600'},\n 1349: {'GO:0006123', 'GO:0007417', 'GO:1902600'},\n 1350: {'GO:0006091', 'GO:0006123', 'GO:1902600'},\n 1351: {'GO:0006091', 'GO:0006123', 'GO:1902600'},\n 1352: {'GO:0000266',\n  'GO:0006123',\n  'GO:0006783',\n  'GO:0006784',\n  'GO:0008535',\n  'GO:0045333',\n  'GO:0048034',\n  'GO:1902600'},\n 1353: {'GO:0022900', 'GO:0033132', 'GO:0055065'},\n 1355: {'GO:0006123',\n  'GO:0006783',\n  'GO:0006784',\n  'GO:0007585',\n  'GO:0008535',\n  'GO:0045333',\n  'GO:0055114',\n  'GO:1902600'},\n 1356: {'GO:0006825',\n  'GO:0006826',\n  'GO:0006879',\n  'GO:0043687',\n  'GO:0044267',\n  'GO:0055072',\n  'GO:0055114'},\n 1357: {'GO:0006508', 'GO:0006691'},\n 1358: {'GO:0006508', 'GO:0007039'},\n 1359: {'GO:0002003', 'GO:0006508'},\n 1360: {'GO:0006508'},\n 1361: {'GO:0003331',\n  'GO:0006508',\n  'GO:0007596',\n  'GO:0009408',\n  'GO:0010757',\n  'GO:0030449',\n  'GO:0042493',\n  'GO:0042730',\n  'GO:0051918',\n  'GO:0071333',\n  'GO:0097421',\n  'GO:2000346'},\n 1362: {'GO:0006518', 'GO:0016485'},\n 1363: {'GO:0003214',\n  'GO:0006464',\n  'GO:0006518',\n  'GO:0007218',\n  'GO:0016055',\n  'GO:0016485',\n  'GO:0030070',\n  'GO:0030072',\n  'GO:0033366',\n  'GO:0072657'},\n 1364: {'GO:0007155',\n  'GO:0007565',\n  'GO:0007623',\n  'GO:0016338',\n  'GO:0022604',\n  'GO:0030335',\n  'GO:0032570',\n  'GO:0061436',\n  'GO:0070293',\n  'GO:0070830',\n  'GO:0090303',\n  'GO:1902476',\n  'GO:1905050'},\n 1365: {'GO:0001666',\n  'GO:0001934',\n  'GO:0003382',\n  'GO:0007155',\n  'GO:0008285',\n  'GO:0010628',\n  'GO:0010629',\n  'GO:0014045',\n  'GO:0016338',\n  'GO:0022604',\n  'GO:0030335',\n  'GO:0030336',\n  'GO:0031532',\n  'GO:0034331',\n  'GO:0035633',\n  'GO:0045471',\n  'GO:0061045',\n  'GO:0070830',\n  'GO:0090303',\n  'GO:0090559',\n  'GO:1901890',\n  'GO:1903348',\n  'GO:1905050'},\n 1366: {'GO:0007155',\n  'GO:0007162',\n  'GO:0008284',\n  'GO:0016338',\n  'GO:0031333',\n  'GO:0043066',\n  'GO:0045471',\n  'GO:0070830',\n  'GO:2000147'},\n 1368: {'GO:0006518', 'GO:0009653', 'GO:0016485'},\n 1369: {'GO:0006518', 'GO:0010815', 'GO:0016485', 'GO:0030449', 'GO:0051384'},\n 1370: {'GO:0030449', 'GO:0050790', 'GO:0050821'},\n 1371: {'GO:0006782',\n  'GO:0006783',\n  'GO:0010039',\n  'GO:0010288',\n  'GO:0017085',\n  'GO:0046685',\n  'GO:0051597',\n  'GO:0055114'},\n 1373: {'GO:0000050',\n  'GO:0006207',\n  'GO:0006508',\n  'GO:0006541',\n  'GO:0006807',\n  'GO:0007494',\n  'GO:0010043',\n  'GO:0014075',\n  'GO:0019240',\n  'GO:0019433',\n  'GO:0032094',\n  'GO:0032496',\n  'GO:0042311',\n  'GO:0042594',\n  'GO:0043200',\n  'GO:0044344',\n  'GO:0046209',\n  'GO:0050667',\n  'GO:0055081',\n  'GO:0060416',\n  'GO:0070365',\n  'GO:0070409',\n  'GO:0071320',\n  'GO:0071377',\n  'GO:0071400',\n  'GO:0071548',\n  'GO:1903718'},\n 1374: {'GO:0001676',\n  'GO:0006006',\n  'GO:0006631',\n  'GO:0006635',\n  'GO:0006641',\n  'GO:0006853',\n  'GO:0007623',\n  'GO:0009437',\n  'GO:0014070',\n  'GO:0019216',\n  'GO:0030855',\n  'GO:0032000',\n  'GO:0042493',\n  'GO:0042755',\n  'GO:0050796',\n  'GO:0071398'},\n 1375: {'GO:0006631', 'GO:0006635', 'GO:0006853', 'GO:0009437', 'GO:0015909'},\n 1376: {'GO:0001701', 'GO:0006635', 'GO:0006853', 'GO:0019216', 'GO:0120162'},\n 1378: {'GO:0002430',\n  'GO:0006958',\n  'GO:0030449',\n  'GO:0043312',\n  'GO:0045087',\n  'GO:0045589',\n  'GO:0045957',\n  'GO:0045959',\n  'GO:0046718',\n  'GO:1900004',\n  'GO:1900005'},\n 1379: {'GO:0030449', 'GO:1903659'},\n 1380: {'GO:0002430',\n  'GO:0006955',\n  'GO:0006958',\n  'GO:0030183',\n  'GO:0030449',\n  'GO:0042100',\n  'GO:0045087',\n  'GO:0046718'},\n 1381: {'GO:0007165', 'GO:0007275', 'GO:0034653'},\n 1382: {'GO:0006355',\n  'GO:0007165',\n  'GO:0008544',\n  'GO:0035115',\n  'GO:0042573',\n  'GO:0048385',\n  'GO:0048672'},\n 1384: {'GO:0006625', 'GO:0019254', 'GO:0033540', 'GO:0046459', 'GO:0051791'},\n 1385: {'GO:0001666',\n  'GO:0006366',\n  'GO:0006468',\n  'GO:0007165',\n  'GO:0007179',\n  'GO:0007409',\n  'GO:0007568',\n  'GO:0007595',\n  'GO:0007613',\n  'GO:0007623',\n  'GO:0008361',\n  'GO:0008542',\n  'GO:0010033',\n  'GO:0010944',\n  'GO:0014823',\n  'GO:0016032',\n  'GO:0021983',\n  'GO:0032916',\n  'GO:0033363',\n  'GO:0033762',\n  'GO:0034670',\n  'GO:0035094',\n  'GO:0035729',\n  'GO:0036120',\n  'GO:0040018',\n  'GO:0042752',\n  'GO:0043065',\n  'GO:0045600',\n  'GO:0045672',\n  'GO:0045893',\n  'GO:0045899',\n  'GO:0045944',\n  'GO:0046887',\n  'GO:0046889',\n  'GO:0048145',\n  'GO:0050821',\n  'GO:0055025',\n  'GO:0060251',\n  'GO:0060430',\n  'GO:0060509',\n  'GO:0071294',\n  'GO:0071300',\n  'GO:0071398',\n  'GO:1900273',\n  'GO:1901215',\n  'GO:1902065',\n  'GO:1990090',\n  'GO:1990314',\n  'GO:1990830'},\n 1386: {'GO:0000122',\n  'GO:0003151',\n  'GO:0006355',\n  'GO:0006357',\n  'GO:0006970',\n  'GO:0006974',\n  'GO:0009414',\n  'GO:0010628',\n  'GO:0016525',\n  'GO:0016573',\n  'GO:0031573',\n  'GO:0032915',\n  'GO:0043525',\n  'GO:0045444',\n  'GO:0045944',\n  'GO:0050680',\n  'GO:0051090',\n  'GO:0051091',\n  'GO:0060612',\n  'GO:0097186',\n  'GO:0110024',\n  'GO:1902110'},\n 1387: {'GO:0000122',\n  'GO:0001666',\n  'GO:0002223',\n  'GO:0006355',\n  'GO:0006367',\n  'GO:0006473',\n  'GO:0007165',\n  'GO:0007219',\n  'GO:0007221',\n  'GO:0008589',\n  'GO:0016032',\n  'GO:0016573',\n  'GO:0018076',\n  'GO:0019216',\n  'GO:0030511',\n  'GO:0031648',\n  'GO:0032481',\n  'GO:0034644',\n  'GO:0042592',\n  'GO:0042733',\n  'GO:0042981',\n  'GO:0045637',\n  'GO:0045747',\n  'GO:0045893',\n  'GO:0045944',\n  'GO:0048511',\n  'GO:0061418',\n  'GO:0065003',\n  'GO:1900034',\n  'GO:1904837',\n  'GO:1990258'},\n 1388: {'GO:0006351',\n  'GO:0007165',\n  'GO:0036500',\n  'GO:0045944',\n  'GO:1903892',\n  'GO:1990440'},\n 1389: {'GO:0006351',\n  'GO:0006357',\n  'GO:0007049',\n  'GO:0007165',\n  'GO:0030154',\n  'GO:0033138',\n  'GO:0045600',\n  'GO:0045893',\n  'GO:0046326',\n  'GO:0046889',\n  'GO:0050821'},\n 1390: {'GO:0000122',\n  'GO:0006006',\n  'GO:0006355',\n  'GO:0006631',\n  'GO:0006687',\n  'GO:0007165',\n  'GO:0007275',\n  'GO:0007283',\n  'GO:0030154',\n  'GO:0042752',\n  'GO:0045944',\n  'GO:0048384',\n  'GO:0048511'},\n 1392: {'GO:0001934',\n  'GO:0001963',\n  'GO:0003085',\n  'GO:0006704',\n  'GO:0006954',\n  'GO:0007165',\n  'GO:0007186',\n  'GO:0007268',\n  'GO:0007565',\n  'GO:0007567',\n  'GO:0007611',\n  'GO:0008284',\n  'GO:0008306',\n  'GO:0008628',\n  'GO:0010628',\n  'GO:0010629',\n  'GO:0010700',\n  'GO:0010841',\n  'GO:0010942',\n  'GO:0014062',\n  'GO:0016101',\n  'GO:0021854',\n  'GO:0030324',\n  'GO:0030325',\n  'GO:0032811',\n  'GO:0033685',\n  'GO:0035641',\n  'GO:0035774',\n  'GO:0035902',\n  'GO:0042322',\n  'GO:0043627',\n  'GO:0043950',\n  'GO:0045471',\n  'GO:0045472',\n  'GO:0048265',\n  'GO:0050801',\n  'GO:0051412',\n  'GO:0051461',\n  'GO:0051464',\n  'GO:0060291',\n  'GO:0060456',\n  'GO:0060548',\n  'GO:0070093',\n  'GO:0071314',\n  'GO:0071549',\n  'GO:0090280',\n  'GO:2000310',\n  'GO:2000854',\n  'GO:2000987'},\n 1393: {'GO:0001963',\n  'GO:0002125',\n  'GO:0006954',\n  'GO:0007165',\n  'GO:0007565',\n  'GO:0007611',\n  'GO:0009755',\n  'GO:0035690',\n  'GO:0035865',\n  'GO:0042445',\n  'GO:0045055',\n  'GO:0048149',\n  'GO:0051459',\n  'GO:0051460',\n  'GO:0071277',\n  'GO:0071314',\n  'GO:0071320',\n  'GO:0071356',\n  'GO:0071391',\n  'GO:0071392',\n  'GO:0080135',\n  'GO:0097211',\n  'GO:1900011',\n  'GO:2000310'},\n 1394: {'GO:0006955',\n  'GO:0007166',\n  'GO:0007186',\n  'GO:0007188',\n  'GO:0007189',\n  'GO:0007190',\n  'GO:0007565',\n  'GO:0007567',\n  'GO:0009755',\n  'GO:0010578',\n  'GO:0051458',\n  'GO:0071376',\n  'GO:1901386',\n  'GO:2000852'},\n 1395: {'GO:0007166',\n  'GO:0007186',\n  'GO:0007188',\n  'GO:0009755',\n  'GO:0060291',\n  'GO:0071376'},\n 1396: {'GO:0006955',\n  'GO:0007507',\n  'GO:0008630',\n  'GO:0010033',\n  'GO:0010043',\n  'GO:0010468',\n  'GO:0060741',\n  'GO:0071236',\n  'GO:0071493'},\n 1397: {'GO:0008284', 'GO:0030097'},\n 1398: {'GO:0000186',\n  'GO:0001764',\n  'GO:0001878',\n  'GO:0006357',\n  'GO:0006629',\n  'GO:0008360',\n  'GO:0009966',\n  'GO:0014911',\n  'GO:0016358',\n  'GO:0019221',\n  'GO:0021766',\n  'GO:0021987',\n  'GO:0030010',\n  'GO:0030036',\n  'GO:0032956',\n  'GO:0033628',\n  'GO:0035020',\n  'GO:0035685',\n  'GO:0035728',\n  'GO:0038026',\n  'GO:0038096',\n  'GO:0042542',\n  'GO:0043087',\n  'GO:0043393',\n  'GO:0045953',\n  'GO:0048010',\n  'GO:0048013',\n  'GO:0050773',\n  'GO:0060326',\n  'GO:0061045',\n  'GO:0061847',\n  'GO:0071560',\n  'GO:0071732',\n  'GO:0090630',\n  'GO:0098749',\n  'GO:1900026',\n  'GO:1902531',\n  'GO:1990090',\n  'GO:1990314',\n  'GO:1990859',\n  'GO:2000146',\n  'GO:2000404'},\n 1399: {'GO:0000186',\n  'GO:0000187',\n  'GO:0001558',\n  'GO:0001568',\n  'GO:0001655',\n  'GO:0001764',\n  'GO:0001783',\n  'GO:0001933',\n  'GO:0001934',\n  'GO:0003151',\n  'GO:0006629',\n  'GO:0007254',\n  'GO:0007265',\n  'GO:0007283',\n  'GO:0007338',\n  'GO:0007416',\n  'GO:0008284',\n  'GO:0008543',\n  'GO:0008584',\n  'GO:0009952',\n  'GO:0010629',\n  'GO:0016358',\n  'GO:0019221',\n  'GO:0021766',\n  'GO:0021987',\n  'GO:0030010',\n  'GO:0033628',\n  'GO:0035556',\n  'GO:0035685',\n  'GO:0038026',\n  'GO:0046579',\n  'GO:0048384',\n  'GO:0048538',\n  'GO:0050773',\n  'GO:0050852',\n  'GO:0060017',\n  'GO:0060326',\n  'GO:0060465',\n  'GO:0070374',\n  'GO:0071560',\n  'GO:0086100',\n  'GO:0090630',\n  'GO:0095500',\n  'GO:0098749',\n  'GO:0098761',\n  'GO:1900026',\n  'GO:1903977',\n  'GO:1904393',\n  'GO:1904888',\n  'GO:2000404'},\n 1400: {'GO:0000226',\n  'GO:0006139',\n  'GO:0007399',\n  'GO:0007411',\n  'GO:0010977',\n  'GO:1904530'},\n 1401: {'GO:0006953',\n  'GO:0006954',\n  'GO:0006958',\n  'GO:0008228',\n  'GO:0010628',\n  'GO:0010745',\n  'GO:0010888',\n  'GO:0032930',\n  'GO:0032945',\n  'GO:0044793',\n  'GO:0045087',\n  'GO:0050830',\n  'GO:0097756',\n  'GO:2000482'},\n 1404: {'GO:0001501', 'GO:0007155', 'GO:0007417', 'GO:0030198'},\n 1406: {'GO:0006355',\n  'GO:0007399',\n  'GO:0007601',\n  'GO:0009887',\n  'GO:0030154',\n  'GO:0045944',\n  'GO:0050896'},\n 1407: {'GO:0000122',\n  'GO:0006094',\n  'GO:0006975',\n  'GO:0007623',\n  'GO:0009416',\n  'GO:0009785',\n  'GO:0014823',\n  'GO:0018298',\n  'GO:0019915',\n  'GO:0031397',\n  'GO:0031398',\n  'GO:0032868',\n  'GO:0032922',\n  'GO:0033762',\n  'GO:0042593',\n  'GO:0042752',\n  'GO:0042754',\n  'GO:0043153',\n  'GO:0045721',\n  'GO:0045744',\n  'GO:0045892',\n  'GO:2000001',\n  'GO:2000323',\n  'GO:2000850'},\n 1408: {'GO:0000122',\n  'GO:0007623',\n  'GO:0009416',\n  'GO:0009785',\n  'GO:0014823',\n  'GO:0018298',\n  'GO:0032515',\n  'GO:0032922',\n  'GO:0042593',\n  'GO:0042752',\n  'GO:0042754',\n  'GO:0043153',\n  'GO:0045892',\n  'GO:2000118',\n  'GO:2000323'},\n 1409: {'GO:0007601', 'GO:0032387', 'GO:0043066', 'GO:0050821', 'GO:0050896'},\n 1410: {'GO:0001666',\n  'GO:0002088',\n  'GO:0006457',\n  'GO:0006936',\n  'GO:0007021',\n  'GO:0007517',\n  'GO:0010259',\n  'GO:0010941',\n  'GO:0030308',\n  'GO:0031109',\n  'GO:0031333',\n  'GO:0032355',\n  'GO:0032387',\n  'GO:0042542',\n  'GO:0043066',\n  'GO:0043154',\n  'GO:0045892',\n  'GO:0050821',\n  'GO:0051403',\n  'GO:0060561',\n  'GO:0071480',\n  'GO:1900034',\n  'GO:1905907',\n  'GO:2000378'},\n 1411: {'GO:0001818',\n  'GO:0002088',\n  'GO:0007601',\n  'GO:0014067',\n  'GO:0032007',\n  'GO:0051898',\n  'GO:0070373',\n  'GO:2000210'},\n 1412: {'GO:0002088', 'GO:0007601'},\n 1413: {'GO:0002088', 'GO:0007601', 'GO:0043010'},\n 1414: {'GO:0002088', 'GO:0007601'},\n 1415: {'GO:0002088', 'GO:0007601', 'GO:0050896'},\n 1417: {'GO:0002088', 'GO:0007601'},\n 1418: {'GO:0002088', 'GO:0007601'},\n 1419: {'GO:0002088', 'GO:0007601', 'GO:0070309'},\n 1420: {'GO:0002088', 'GO:0007601'},\n 1421: {'GO:0002088', 'GO:0007601', 'GO:0034614', 'GO:0070306'},\n 1427: {'GO:0002009', 'GO:0002088', 'GO:0007601'},\n 1428: {'GO:0000122',\n  'GO:0006554',\n  'GO:0007605',\n  'GO:0042403',\n  'GO:0055114',\n  'GO:0070327'},\n 1429: {'GO:0007601', 'GO:0042178', 'GO:0051289', 'GO:0055114'},\n 1431: {'GO:0005975', 'GO:0006099', 'GO:0006101'},\n 1432: {'GO:0000077',\n  'GO:0000187',\n  'GO:0000902',\n  'GO:0001502',\n  'GO:0001525',\n  'GO:0001890',\n  'GO:0002062',\n  'GO:0002720',\n  'GO:0006006',\n  'GO:0006357',\n  'GO:0006915',\n  'GO:0006935',\n  'GO:0007165',\n  'GO:0007166',\n  'GO:0007178',\n  'GO:0007265',\n  'GO:0007519',\n  'GO:0010468',\n  'GO:0010628',\n  'GO:0010759',\n  'GO:0010831',\n  'GO:0018105',\n  'GO:0019395',\n  'GO:0030278',\n  'GO:0030316',\n  'GO:0031281',\n  'GO:0031663',\n  'GO:0032495',\n  'GO:0035331',\n  'GO:0035556',\n  'GO:0035924',\n  'GO:0035994',\n  'GO:0038066',\n  'GO:0042307',\n  'GO:0042770',\n  'GO:0043312',\n  'GO:0045648',\n  'GO:0045663',\n  'GO:0045944',\n  'GO:0046326',\n  'GO:0048010',\n  'GO:0051090',\n  'GO:0051146',\n  'GO:0051149',\n  'GO:0060045',\n  'GO:0070935',\n  'GO:0071222',\n  'GO:0071223',\n  'GO:0071356',\n  'GO:0071479',\n  'GO:0090090',\n  'GO:0090336',\n  'GO:0090400',\n  'GO:0098586',\n  'GO:0099179',\n  'GO:1900015',\n  'GO:1901741',\n  'GO:1901796',\n  'GO:1905050',\n  'GO:2000379',\n  'GO:2001184'},\n 1434: {'GO:0006606', 'GO:0006611'},\n 1435: {'GO:0001954',\n  'GO:0002158',\n  'GO:0002931',\n  'GO:0003006',\n  'GO:0006954',\n  'GO:0007169',\n  'GO:0008284',\n  'GO:0010628',\n  'GO:0010743',\n  'GO:0010744',\n  'GO:0010759',\n  'GO:0019221',\n  'GO:0030225',\n  'GO:0030278',\n  'GO:0030316',\n  'GO:0030335',\n  'GO:0032270',\n  'GO:0032946',\n  'GO:0038145',\n  'GO:0040018',\n  'GO:0042117',\n  'GO:0042488',\n  'GO:0043687',\n  'GO:0044267',\n  'GO:0045087',\n  'GO:0045651',\n  'GO:0045657',\n  'GO:0045672',\n  'GO:0045860',\n  'GO:0046579',\n  'GO:0048873',\n  'GO:0060444',\n  'GO:0060611',\n  'GO:0060763',\n  'GO:0061518',\n  'GO:1901215',\n  'GO:1902228',\n  'GO:1904141'},\n 1436: {'GO:0001934',\n  'GO:0002244',\n  'GO:0002931',\n  'GO:0006954',\n  'GO:0007165',\n  'GO:0007169',\n  'GO:0007275',\n  'GO:0007411',\n  'GO:0008283',\n  'GO:0008284',\n  'GO:0008285',\n  'GO:0008360',\n  'GO:0010759',\n  'GO:0018108',\n  'GO:0019221',\n  'GO:0021772',\n  'GO:0021879',\n  'GO:0030097',\n  'GO:0030224',\n  'GO:0030225',\n  'GO:0030316',\n  'GO:0030335',\n  'GO:0031529',\n  'GO:0033674',\n  'GO:0036006',\n  'GO:0038145',\n  'GO:0042531',\n  'GO:0043066',\n  'GO:0044794',\n  'GO:0045087',\n  'GO:0045124',\n  'GO:0045217',\n  'GO:0046488',\n  'GO:0046777',\n  'GO:0048015',\n  'GO:0060603',\n  'GO:0061098',\n  'GO:0061518',\n  'GO:0070374',\n  'GO:0071345',\n  'GO:0071902',\n  'GO:0090197',\n  'GO:0120041',\n  'GO:2000147',\n  'GO:2000249'},\n 1437: {'GO:0000165',\n  'GO:0001821',\n  'GO:0001892',\n  'GO:0006955',\n  'GO:0008284',\n  'GO:0010628',\n  'GO:0010744',\n  'GO:0019221',\n  'GO:0030099',\n  'GO:0030223',\n  'GO:0030224',\n  'GO:0030225',\n  'GO:0032747',\n  'GO:0034021',\n  'GO:0034405',\n  'GO:0042045',\n  'GO:0042116',\n  'GO:0042531',\n  'GO:0043011',\n  'GO:0045187',\n  'GO:0045637',\n  'GO:0045892',\n  'GO:0071222',\n  'GO:0071803',\n  'GO:0097011',\n  'GO:0097028',\n  'GO:2001240'},\n 1438: {'GO:0000165', 'GO:0019221', 'GO:0044267'},\n ...}"
     },
     "metadata": {},
     "execution_count": 2
    }
   ],
   "source": []
  },
  {
   "cell_type": "code",
   "execution_count": null,
   "metadata": {},
   "outputs": [],
   "source": [
    "mydata = Data(edge_index=edge_index, x = x, y = y, train_mask = train_mask, num_classes = 4)"
   ]
  },
  {
   "cell_type": "code",
   "execution_count": null,
   "metadata": {},
   "outputs": [],
   "source": [
    "import torch\n",
    "import torch.nn.functional as F\n",
    "from torch_geometric.nn import GCNConv\n",
    "\n",
    "class Net(torch.nn.Module):\n",
    "    def __init__(self):\n",
    "        super(Net, self).__init__()\n",
    "        self.conv1 = GCNConv(mydata.num_node_features, 2)\n",
    "        self.conv2 = GCNConv(2, mydata.num_classes)\n",
    "\n",
    "    def forward(self, data):\n",
    "        x, edge_index = data.x, data.edge_index\n",
    "        import pdb\n",
    "        # pdb.set_trace()\n",
    "\n",
    "        x = self.conv1(x, edge_index)\n",
    "        x = F.relu(x)\n",
    "        x = F.dropout(x, training=self.training)\n",
    "        x = self.conv2(x, edge_index)\n",
    "\n",
    "        return F.log_softmax(x, dim=1)"
   ]
  },
  {
   "cell_type": "code",
   "execution_count": null,
   "metadata": {
    "tags": []
   },
   "outputs": [],
   "source": [
    "device = torch.device('cuda' if torch.cuda.is_available() else 'cpu')\n",
    "model = Net().to(device)\n",
    "mydata = mydata.to(device)\n",
    "optimizer = torch.optim.Adam(model.parameters(), lr=0.01, weight_decay=5e-4)\n",
    "\n",
    "model.train()\n",
    "for epoch in range(200):\n",
    "    optimizer.zero_grad()\n",
    "    out = model(mydata)\n",
    "    loss = F.nll_loss(out[mydata.train_mask], mydata.y[mydata.train_mask])\n",
    "    loss.backward()\n",
    "    optimizer.step()"
   ]
  },
  {
   "cell_type": "code",
   "execution_count": null,
   "metadata": {},
   "outputs": [],
   "source": [
    "model.eval()\n",
    "a, pred = model(mydata).max(dim=1)"
   ]
  },
  {
   "cell_type": "code",
   "execution_count": null,
   "metadata": {},
   "outputs": [],
   "source": [
    "data = mydata\n",
    "correct = int(pred[torch.logical_not(data.train_mask)].eq(data.y[torch.logical_not(data.train_mask)]).sum().item())"
   ]
  },
  {
   "cell_type": "code",
   "execution_count": null,
   "metadata": {},
   "outputs": [],
   "source": [
    "acc = correct / int(torch.logical_not(data.train_mask).sum())\n",
    "acc"
   ]
  },
  {
   "cell_type": "code",
   "execution_count": null,
   "metadata": {},
   "outputs": [],
   "source": [
    "from torch_geometric.datasets import Planetoid\n",
    "\n",
    "planetset = Planetoid(root='/tmp/Cora', name='Cora')\n",
    "\n",
    "planets = planetset[0]"
   ]
  },
  {
   "cell_type": "code",
   "execution_count": null,
   "metadata": {},
   "outputs": [],
   "source": [
    "planets.edge_index.dtype"
   ]
  }
 ],
 "metadata": {
  "kernelspec": {
   "display_name": "Python 3",
   "language": "python",
   "name": "python3"
  },
  "language_info": {
   "codemirror_mode": {
    "name": "ipython",
    "version": 3
   },
   "file_extension": ".py",
   "mimetype": "text/x-python",
   "name": "python",
   "nbconvert_exporter": "python",
   "pygments_lexer": "ipython3",
   "version": "3.8.3"
  }
 },
 "nbformat": 4,
 "nbformat_minor": 2
}