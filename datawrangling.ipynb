{
 "cells": [
  {
   "cell_type": "code",
   "execution_count": 1,
   "metadata": {},
   "outputs": [
    {
     "output_type": "display_data",
     "data": {
      "text/plain": "<IPython.core.display.HTML object>",
      "text/html": "<style type='text/css'>\n.datatable table.frame { margin-bottom: 0; }\n.datatable table.frame thead { border-bottom: none; }\n.datatable table.frame tr.coltypes td {  color: #FFFFFF;  line-height: 6px;  padding: 0 0.5em;}\n.datatable .boolean { background: #DDDD99; }\n.datatable .object  { background: #565656; }\n.datatable .integer { background: #5D9E5D; }\n.datatable .float   { background: #4040CC; }\n.datatable .string  { background: #CC4040; }\n.datatable .row_index {  background: var(--jp-border-color3);  border-right: 1px solid var(--jp-border-color0);  color: var(--jp-ui-font-color3);  font-size: 9px;}\n.datatable .frame tr.coltypes .row_index {  background: var(--jp-border-color0);}\n.datatable th:nth-child(2) { padding-left: 12px; }\n.datatable .hellipsis {  color: var(--jp-cell-editor-border-color);}\n.datatable .vellipsis {  background: var(--jp-layout-color0);  color: var(--jp-cell-editor-border-color);}\n.datatable .na {  color: var(--jp-cell-editor-border-color);  font-size: 80%;}\n.datatable .footer { font-size: 9px; }\n.datatable .frame_dimensions {  background: var(--jp-border-color3);  border-top: 1px solid var(--jp-border-color0);  color: var(--jp-ui-font-color3);  display: inline-block;  opacity: 0.6;  padding: 1px 10px 1px 5px;}\n</style>\n"
     },
     "metadata": {}
    }
   ],
   "source": [
    "import datatable as dt"
   ]
  },
  {
   "cell_type": "code",
   "execution_count": 2,
   "metadata": {},
   "outputs": [],
   "source": [
    "biogrid_mv = dt.fread(\"data/BIOGRID-MV-Physical-3.5.187.tab3.txt\",  header=True,)"
   ]
  },
  {
   "cell_type": "code",
   "execution_count": 3,
   "metadata": {},
   "outputs": [],
   "source": [
    "with open(file=\"data/BIOGRID-MV-Physical-3.5.187.tab3.txt\") as fi:\n",
    "  ww = fi.readline().rstrip().split(\"\\t\")\n",
    "biogrid_mv.names = ww\n",
    "\n"
   ]
  },
  {
   "cell_type": "code",
   "execution_count": 4,
   "metadata": {
    "tags": []
   },
   "outputs": [],
   "source": [
    "biogrid_mv_human = biogrid_mv[ list(map(lambda x,y: (x==9606)&(y==9606), biogrid_mv[\"Organism Interactor A\"].to_list()[0], biogrid_mv[\"Organism Interactor B\"].to_list()[0])),:]"
   ]
  },
  {
   "cell_type": "code",
   "execution_count": null,
   "metadata": {},
   "outputs": [],
   "source": []
  },
  {
   "cell_type": "code",
   "execution_count": 61,
   "metadata": {},
   "outputs": [],
   "source": [
    "\n",
    "edges = list(set(list(zip(map(str.upper, biogrid_mv_human[\"Official Symbol Interactor A\"].to_list()[0]) , map(str.upper,biogrid_mv_human[\"Official Symbol Interactor B\"].to_list()[0])))))"
   ]
  },
  {
   "cell_type": "code",
   "execution_count": 62,
   "metadata": {},
   "outputs": [],
   "source": [
    "edges = list(set(list(map(lambda x: tuple(sorted(x)), edges))))"
   ]
  },
  {
   "cell_type": "code",
   "execution_count": 63,
   "metadata": {},
   "outputs": [],
   "source": [
    "edges_zipped = list(zip(*edges))"
   ]
  },
  {
   "cell_type": "code",
   "execution_count": 64,
   "metadata": {},
   "outputs": [],
   "source": [
    "all_nodes = sorted(set.union(set(edges_zipped[0]), set(edges_zipped[1])))"
   ]
  },
  {
   "cell_type": "code",
   "execution_count": 65,
   "metadata": {},
   "outputs": [
    {
     "output_type": "execute_result",
     "data": {
      "text/plain": "10126"
     },
     "metadata": {},
     "execution_count": 65
    }
   ],
   "source": [
    "len(all_nodes)"
   ]
  },
  {
   "cell_type": "code",
   "execution_count": 9,
   "metadata": {},
   "outputs": [],
   "source": [
    "import torch\n",
    "from torch_geometric.data import Data"
   ]
  },
  {
   "cell_type": "code",
   "execution_count": 66,
   "metadata": {},
   "outputs": [],
   "source": [
    "node2ind = dict(zip(all_nodes, range(len(all_nodes))))"
   ]
  },
  {
   "cell_type": "code",
   "execution_count": 67,
   "metadata": {},
   "outputs": [
    {
     "output_type": "execute_result",
     "data": {
      "text/plain": "10126"
     },
     "metadata": {},
     "execution_count": 67
    }
   ],
   "source": [
    "len(node2ind)"
   ]
  },
  {
   "cell_type": "code",
   "execution_count": 68,
   "metadata": {},
   "outputs": [],
   "source": [
    "edges_zipped_indices = [list(map(lambda x: node2ind[x], edges_zipped[0])),\n",
    "                        list(map(lambda x: node2ind[x], edges_zipped[1]))]\n"
   ]
  },
  {
   "cell_type": "code",
   "execution_count": 69,
   "metadata": {},
   "outputs": [],
   "source": [
    "edge_index = torch.tensor(edges_zipped_indices, dtype=torch.long)\n"
   ]
  },
  {
   "cell_type": "code",
   "execution_count": 37,
   "metadata": {},
   "outputs": [],
   "source": [
    "import numpy as np\n",
    "new_matrix = np.genfromtxt(\"gene_goslim_matrix.csv\", delimiter = \",\", max_rows = 5)"
   ]
  },
  {
   "cell_type": "code",
   "execution_count": 73,
   "metadata": {},
   "outputs": [],
   "source": [
    "import pandas as pd\n",
    "new_matrix = pd.read_csv(\"gene_goslim_matrix.csv\")"
   ]
  },
  {
   "cell_type": "code",
   "execution_count": 74,
   "metadata": {},
   "outputs": [],
   "source": [
    "new_matrix.set_index(\"Unnamed: 0\", inplace=True)"
   ]
  },
  {
   "cell_type": "code",
   "execution_count": 83,
   "metadata": {},
   "outputs": [],
   "source": [
    "ind2node = dict(zip(node2ind.values(), node2ind.keys()))"
   ]
  },
  {
   "cell_type": "code",
   "execution_count": 96,
   "metadata": {},
   "outputs": [
    {
     "output_type": "execute_result",
     "data": {
      "text/plain": "                                         MAP2K4  GATA2   RPA2   ARF1   ARF3  \\\nUnnamed: 0                                                                    \nGO:0005783_ENDOPLASMIC_RETICULUM          False  False  False  False  False   \nGO:0007610_BEHAVIOR                       False  False  False  False  False   \nGO:0007165_SIGNAL_TRANSDUCTION             True  False  False  False  False   \nGO:0005198_STRUCTURAL_MOLECULE_ACTIVITY   False  False  False  False  False   \nGO:0007005_MITOCHONDRION_ORGANIZATION     False  False  False  False  False   \n...                                         ...    ...    ...    ...    ...   \nGO:0005576_EXTRACELLULAR_REGION           False  False  False  False  False   \nGO:0016032_VIRAL_REPRODUCTION             False  False  False  False  False   \nGO:0015031_PROTEIN_TRANSPORT              False  False  False   True   True   \nGO:0005768_ENDOSOME                       False  False  False  False  False   \nGO:0006412_TRANSLATION                    False  False  False  False  False   \n\n                                           APP  APLP1  CITED2  EP300   APOB  \\\nUnnamed: 0                                                                    \nGO:0005783_ENDOPLASMIC_RETICULUM         False  False   False  False   True   \nGO:0007610_BEHAVIOR                      False  False   False  False  False   \nGO:0007165_SIGNAL_TRANSDUCTION           False  False   False   True  False   \nGO:0005198_STRUCTURAL_MOLECULE_ACTIVITY  False  False   False  False  False   \nGO:0007005_MITOCHONDRION_ORGANIZATION    False  False   False  False  False   \n...                                        ...    ...     ...    ...    ...   \nGO:0005576_EXTRACELLULAR_REGION           True  False   False  False   True   \nGO:0016032_VIRAL_REPRODUCTION            False  False   False  False  False   \nGO:0015031_PROTEIN_TRANSPORT             False  False   False  False  False   \nGO:0005768_ENDOSOME                      False  False   False  False  False   \nGO:0006412_TRANSLATION                   False  False   False  False  False   \n\n                                         ...  IL1RL1  MASP1  TIMM22  NSDHL  \\\nUnnamed: 0                               ...                                 \nGO:0005783_ENDOPLASMIC_RETICULUM         ...   False  False   False   True   \nGO:0007610_BEHAVIOR                      ...   False  False   False  False   \nGO:0007165_SIGNAL_TRANSDUCTION           ...    True  False   False  False   \nGO:0005198_STRUCTURAL_MOLECULE_ACTIVITY  ...   False  False   False  False   \nGO:0007005_MITOCHONDRION_ORGANIZATION    ...   False  False   False  False   \n...                                      ...     ...    ...     ...    ...   \nGO:0005576_EXTRACELLULAR_REGION          ...    True   True   False  False   \nGO:0016032_VIRAL_REPRODUCTION            ...   False  False   False  False   \nGO:0015031_PROTEIN_TRANSPORT             ...   False  False    True  False   \nGO:0005768_ENDOSOME                      ...   False  False   False  False   \nGO:0006412_TRANSLATION                   ...   False  False   False  False   \n\n                                         SLC6A19   TMX2   RNR1  LOC102724652  \\\nUnnamed: 0                                                                     \nGO:0005783_ENDOPLASMIC_RETICULUM           False  False  False         False   \nGO:0007610_BEHAVIOR                        False  False  False         False   \nGO:0007165_SIGNAL_TRANSDUCTION             False  False  False         False   \nGO:0005198_STRUCTURAL_MOLECULE_ACTIVITY    False  False  False         False   \nGO:0007005_MITOCHONDRION_ORGANIZATION      False  False  False         False   \n...                                          ...    ...    ...           ...   \nGO:0005576_EXTRACELLULAR_REGION            False  False  False         False   \nGO:0016032_VIRAL_REPRODUCTION              False  False  False         False   \nGO:0015031_PROTEIN_TRANSPORT               False  False  False         False   \nGO:0005768_ENDOSOME                        False  False  False         False   \nGO:0006412_TRANSLATION                     False  False  False         False   \n\n                                         DHCR24  SIGMAR1  \nUnnamed: 0                                                \nGO:0005783_ENDOPLASMIC_RETICULUM           True    False  \nGO:0007610_BEHAVIOR                       False    False  \nGO:0007165_SIGNAL_TRANSDUCTION            False    False  \nGO:0005198_STRUCTURAL_MOLECULE_ACTIVITY   False    False  \nGO:0007005_MITOCHONDRION_ORGANIZATION     False    False  \n...                                         ...      ...  \nGO:0005576_EXTRACELLULAR_REGION           False    False  \nGO:0016032_VIRAL_REPRODUCTION             False    False  \nGO:0015031_PROTEIN_TRANSPORT              False    False  \nGO:0005768_ENDOSOME                       False    False  \nGO:0006412_TRANSLATION                    False    False  \n\n[114 rows x 10126 columns]",
      "text/html": "<div>\n<style scoped>\n    .dataframe tbody tr th:only-of-type {\n        vertical-align: middle;\n    }\n\n    .dataframe tbody tr th {\n        vertical-align: top;\n    }\n\n    .dataframe thead th {\n        text-align: right;\n    }\n</style>\n<table border=\"1\" class=\"dataframe\">\n  <thead>\n    <tr style=\"text-align: right;\">\n      <th></th>\n      <th>MAP2K4</th>\n      <th>GATA2</th>\n      <th>RPA2</th>\n      <th>ARF1</th>\n      <th>ARF3</th>\n      <th>APP</th>\n      <th>APLP1</th>\n      <th>CITED2</th>\n      <th>EP300</th>\n      <th>APOB</th>\n      <th>...</th>\n      <th>IL1RL1</th>\n      <th>MASP1</th>\n      <th>TIMM22</th>\n      <th>NSDHL</th>\n      <th>SLC6A19</th>\n      <th>TMX2</th>\n      <th>RNR1</th>\n      <th>LOC102724652</th>\n      <th>DHCR24</th>\n      <th>SIGMAR1</th>\n    </tr>\n    <tr>\n      <th>Unnamed: 0</th>\n      <th></th>\n      <th></th>\n      <th></th>\n      <th></th>\n      <th></th>\n      <th></th>\n      <th></th>\n      <th></th>\n      <th></th>\n      <th></th>\n      <th></th>\n      <th></th>\n      <th></th>\n      <th></th>\n      <th></th>\n      <th></th>\n      <th></th>\n      <th></th>\n      <th></th>\n      <th></th>\n      <th></th>\n    </tr>\n  </thead>\n  <tbody>\n    <tr>\n      <th>GO:0005783_ENDOPLASMIC_RETICULUM</th>\n      <td>False</td>\n      <td>False</td>\n      <td>False</td>\n      <td>False</td>\n      <td>False</td>\n      <td>False</td>\n      <td>False</td>\n      <td>False</td>\n      <td>False</td>\n      <td>True</td>\n      <td>...</td>\n      <td>False</td>\n      <td>False</td>\n      <td>False</td>\n      <td>True</td>\n      <td>False</td>\n      <td>False</td>\n      <td>False</td>\n      <td>False</td>\n      <td>True</td>\n      <td>False</td>\n    </tr>\n    <tr>\n      <th>GO:0007610_BEHAVIOR</th>\n      <td>False</td>\n      <td>False</td>\n      <td>False</td>\n      <td>False</td>\n      <td>False</td>\n      <td>False</td>\n      <td>False</td>\n      <td>False</td>\n      <td>False</td>\n      <td>False</td>\n      <td>...</td>\n      <td>False</td>\n      <td>False</td>\n      <td>False</td>\n      <td>False</td>\n      <td>False</td>\n      <td>False</td>\n      <td>False</td>\n      <td>False</td>\n      <td>False</td>\n      <td>False</td>\n    </tr>\n    <tr>\n      <th>GO:0007165_SIGNAL_TRANSDUCTION</th>\n      <td>True</td>\n      <td>False</td>\n      <td>False</td>\n      <td>False</td>\n      <td>False</td>\n      <td>False</td>\n      <td>False</td>\n      <td>False</td>\n      <td>True</td>\n      <td>False</td>\n      <td>...</td>\n      <td>True</td>\n      <td>False</td>\n      <td>False</td>\n      <td>False</td>\n      <td>False</td>\n      <td>False</td>\n      <td>False</td>\n      <td>False</td>\n      <td>False</td>\n      <td>False</td>\n    </tr>\n    <tr>\n      <th>GO:0005198_STRUCTURAL_MOLECULE_ACTIVITY</th>\n      <td>False</td>\n      <td>False</td>\n      <td>False</td>\n      <td>False</td>\n      <td>False</td>\n      <td>False</td>\n      <td>False</td>\n      <td>False</td>\n      <td>False</td>\n      <td>False</td>\n      <td>...</td>\n      <td>False</td>\n      <td>False</td>\n      <td>False</td>\n      <td>False</td>\n      <td>False</td>\n      <td>False</td>\n      <td>False</td>\n      <td>False</td>\n      <td>False</td>\n      <td>False</td>\n    </tr>\n    <tr>\n      <th>GO:0007005_MITOCHONDRION_ORGANIZATION</th>\n      <td>False</td>\n      <td>False</td>\n      <td>False</td>\n      <td>False</td>\n      <td>False</td>\n      <td>False</td>\n      <td>False</td>\n      <td>False</td>\n      <td>False</td>\n      <td>False</td>\n      <td>...</td>\n      <td>False</td>\n      <td>False</td>\n      <td>False</td>\n      <td>False</td>\n      <td>False</td>\n      <td>False</td>\n      <td>False</td>\n      <td>False</td>\n      <td>False</td>\n      <td>False</td>\n    </tr>\n    <tr>\n      <th>...</th>\n      <td>...</td>\n      <td>...</td>\n      <td>...</td>\n      <td>...</td>\n      <td>...</td>\n      <td>...</td>\n      <td>...</td>\n      <td>...</td>\n      <td>...</td>\n      <td>...</td>\n      <td>...</td>\n      <td>...</td>\n      <td>...</td>\n      <td>...</td>\n      <td>...</td>\n      <td>...</td>\n      <td>...</td>\n      <td>...</td>\n      <td>...</td>\n      <td>...</td>\n      <td>...</td>\n    </tr>\n    <tr>\n      <th>GO:0005576_EXTRACELLULAR_REGION</th>\n      <td>False</td>\n      <td>False</td>\n      <td>False</td>\n      <td>False</td>\n      <td>False</td>\n      <td>True</td>\n      <td>False</td>\n      <td>False</td>\n      <td>False</td>\n      <td>True</td>\n      <td>...</td>\n      <td>True</td>\n      <td>True</td>\n      <td>False</td>\n      <td>False</td>\n      <td>False</td>\n      <td>False</td>\n      <td>False</td>\n      <td>False</td>\n      <td>False</td>\n      <td>False</td>\n    </tr>\n    <tr>\n      <th>GO:0016032_VIRAL_REPRODUCTION</th>\n      <td>False</td>\n      <td>False</td>\n      <td>False</td>\n      <td>False</td>\n      <td>False</td>\n      <td>False</td>\n      <td>False</td>\n      <td>False</td>\n      <td>False</td>\n      <td>False</td>\n      <td>...</td>\n      <td>False</td>\n      <td>False</td>\n      <td>False</td>\n      <td>False</td>\n      <td>False</td>\n      <td>False</td>\n      <td>False</td>\n      <td>False</td>\n      <td>False</td>\n      <td>False</td>\n    </tr>\n    <tr>\n      <th>GO:0015031_PROTEIN_TRANSPORT</th>\n      <td>False</td>\n      <td>False</td>\n      <td>False</td>\n      <td>True</td>\n      <td>True</td>\n      <td>False</td>\n      <td>False</td>\n      <td>False</td>\n      <td>False</td>\n      <td>False</td>\n      <td>...</td>\n      <td>False</td>\n      <td>False</td>\n      <td>True</td>\n      <td>False</td>\n      <td>False</td>\n      <td>False</td>\n      <td>False</td>\n      <td>False</td>\n      <td>False</td>\n      <td>False</td>\n    </tr>\n    <tr>\n      <th>GO:0005768_ENDOSOME</th>\n      <td>False</td>\n      <td>False</td>\n      <td>False</td>\n      <td>False</td>\n      <td>False</td>\n      <td>False</td>\n      <td>False</td>\n      <td>False</td>\n      <td>False</td>\n      <td>False</td>\n      <td>...</td>\n      <td>False</td>\n      <td>False</td>\n      <td>False</td>\n      <td>False</td>\n      <td>False</td>\n      <td>False</td>\n      <td>False</td>\n      <td>False</td>\n      <td>False</td>\n      <td>False</td>\n    </tr>\n    <tr>\n      <th>GO:0006412_TRANSLATION</th>\n      <td>False</td>\n      <td>False</td>\n      <td>False</td>\n      <td>False</td>\n      <td>False</td>\n      <td>False</td>\n      <td>False</td>\n      <td>False</td>\n      <td>False</td>\n      <td>False</td>\n      <td>...</td>\n      <td>False</td>\n      <td>False</td>\n      <td>False</td>\n      <td>False</td>\n      <td>False</td>\n      <td>False</td>\n      <td>False</td>\n      <td>False</td>\n      <td>False</td>\n      <td>False</td>\n    </tr>\n  </tbody>\n</table>\n<p>114 rows × 10126 columns</p>\n</div>"
     },
     "metadata": {},
     "execution_count": 96
    }
   ],
   "source": [
    "#new_matrix[\"MAP2K4\"]\n",
    "new_matrix[]\n",
    "#list(map(lambda x: node2ind[x], new_matrix.columns.tolist()))"
   ]
  },
  {
   "cell_type": "code",
   "execution_count": null,
   "metadata": {},
   "outputs": [],
   "source": [
    "from numpy import random\n",
    "x = torch.tensor([random.randint(-1,2,size=len(all_nodes)),\n",
    "     random.randint(-1,2,size=len(all_nodes)),\n",
    "     random.randint(-1,2,size=len(all_nodes)),\n",
    "     random.randint(-1,2,size=len(all_nodes))], dtype=torch.float).t()\n",
    "y = torch.tensor(random.randint(0,4,len(all_nodes)), dtype=torch.long)\n",
    "train_mask = torch.tensor(random.random_sample(size=len(all_nodes)) > .8, dtype=torch.bool)\n"
   ]
  },
  {
   "cell_type": "code",
   "execution_count": null,
   "metadata": {},
   "outputs": [],
   "source": [
    "mydata = Data(edge_index=edge_index, x = x, y = y, train_mask = train_mask, num_classes = 4)"
   ]
  },
  {
   "cell_type": "code",
   "execution_count": null,
   "metadata": {},
   "outputs": [],
   "source": [
    "import torch\n",
    "import torch.nn.functional as F\n",
    "from torch_geometric.nn import GCNConv\n",
    "\n",
    "class Net(torch.nn.Module):\n",
    "    def __init__(self):\n",
    "        super(Net, self).__init__()\n",
    "        self.conv1 = GCNConv(mydata.num_node_features, 2)\n",
    "        self.conv2 = GCNConv(2, mydata.num_classes)\n",
    "\n",
    "    def forward(self, data):\n",
    "        x, edge_index = data.x, data.edge_index\n",
    "        import pdb\n",
    "        # pdb.set_trace()\n",
    "\n",
    "        x = self.conv1(x, edge_index)\n",
    "        x = F.relu(x)\n",
    "        x = F.dropout(x, training=self.training)\n",
    "        x = self.conv2(x, edge_index)\n",
    "\n",
    "        return F.log_softmax(x, dim=1)"
   ]
  },
  {
   "cell_type": "code",
   "execution_count": null,
   "metadata": {
    "tags": []
   },
   "outputs": [],
   "source": [
    "device = torch.device('cuda' if torch.cuda.is_available() else 'cpu')\n",
    "model = Net().to(device)\n",
    "mydata = mydata.to(device)\n",
    "optimizer = torch.optim.Adam(model.parameters(), lr=0.01, weight_decay=5e-4)\n",
    "\n",
    "model.train()\n",
    "for epoch in range(200):\n",
    "    optimizer.zero_grad()\n",
    "    out = model(mydata)\n",
    "    loss = F.nll_loss(out[mydata.train_mask], mydata.y[mydata.train_mask])\n",
    "    loss.backward()\n",
    "    optimizer.step()"
   ]
  },
  {
   "cell_type": "code",
   "execution_count": null,
   "metadata": {},
   "outputs": [],
   "source": [
    "model.eval()\n",
    "a, pred = model(mydata).max(dim=1)"
   ]
  },
  {
   "cell_type": "code",
   "execution_count": null,
   "metadata": {},
   "outputs": [],
   "source": [
    "data = mydata\n",
    "correct = int(pred[torch.logical_not(data.train_mask)].eq(data.y[torch.logical_not(data.train_mask)]).sum().item())"
   ]
  },
  {
   "cell_type": "code",
   "execution_count": null,
   "metadata": {},
   "outputs": [],
   "source": [
    "acc = correct / int(torch.logical_not(data.train_mask).sum())\n",
    "acc"
   ]
  },
  {
   "cell_type": "code",
   "execution_count": null,
   "metadata": {},
   "outputs": [],
   "source": [
    "from torch_geometric.datasets import Planetoid\n",
    "\n",
    "planetset = Planetoid(root='/tmp/Cora', name='Cora')\n",
    "\n",
    "planets = planetset[0]"
   ]
  },
  {
   "cell_type": "code",
   "execution_count": null,
   "metadata": {},
   "outputs": [],
   "source": [
    "planets.edge_index.dtype"
   ]
  }
 ],
 "metadata": {
  "kernelspec": {
   "display_name": "Python 3",
   "language": "python",
   "name": "python3"
  },
  "language_info": {
   "codemirror_mode": {
    "name": "ipython",
    "version": 3
   },
   "file_extension": ".py",
   "mimetype": "text/x-python",
   "name": "python",
   "nbconvert_exporter": "python",
   "pygments_lexer": "ipython3",
   "version": "3.8.3"
  }
 },
 "nbformat": 4,
 "nbformat_minor": 2
}